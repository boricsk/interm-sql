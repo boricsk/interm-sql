{
    "metadata": {
        "kernelspec": {
            "name": "SQL",
            "display_name": "SQL",
            "language": "sql"
        },
        "language_info": {
            "name": "sql",
            "version": ""
        }
    },
    "nbformat_minor": 2,
    "nbformat": 4,
    "cells": [
        {
            "cell_type": "markdown",
            "source": [
                "Halmazműveletek\n",
                "\n",
                "UNION"
            ],
            "metadata": {
                "azdata_cell_guid": "3e7ff98f-14a8-44b8-9079-f9e69a9901ca"
            },
            "attachments": {}
        },
        {
            "cell_type": "code",
            "source": [
                "--A lentieket inlime táblakonstruktornak nevezik\r\n",
                "select *\r\n",
                "from (\r\n",
                "    VALUES\r\n",
                "    (1, N'Budapest'),\r\n",
                "    (2, N'Szeged'),\r\n",
                "    (3, N'Miskolc'),\r\n",
                "    (4, N'Debrecen'),\r\n",
                "    (5, N'Győr')\r\n",
                ") varos(ID, nev)\r\n",
                "UNION ALL\r\n",
                "select 1, 'Budapest'"
            ],
            "metadata": {
                "azdata_cell_guid": "f8c55a2c-21ba-4262-ab55-e5ea27a1c08c",
                "language": "sql"
            },
            "outputs": [
                {
                    "output_type": "display_data",
                    "data": {
                        "text/html": "(5 rows affected)"
                    },
                    "metadata": {}
                },
                {
                    "output_type": "display_data",
                    "data": {
                        "text/html": "Total execution time: 00:00:00.039"
                    },
                    "metadata": {}
                },
                {
                    "output_type": "execute_result",
                    "metadata": {},
                    "execution_count": 5,
                    "data": {
                        "application/vnd.dataresource+json": {
                            "schema": {
                                "fields": [
                                    {
                                        "name": "ID"
                                    },
                                    {
                                        "name": "nev"
                                    }
                                ]
                            },
                            "data": [
                                {
                                    "ID": "1",
                                    "nev": "Budapest"
                                },
                                {
                                    "ID": "2",
                                    "nev": "Szeged"
                                },
                                {
                                    "ID": "3",
                                    "nev": "Miskolc"
                                },
                                {
                                    "ID": "4",
                                    "nev": "Debrecen"
                                },
                                {
                                    "ID": "5",
                                    "nev": "Győr"
                                }
                            ]
                        },
                        "text/html": [
                            "<table>",
                            "<tr><th>ID</th><th>nev</th></tr>",
                            "<tr><td>1</td><td>Budapest</td></tr>",
                            "<tr><td>2</td><td>Szeged</td></tr>",
                            "<tr><td>3</td><td>Miskolc</td></tr>",
                            "<tr><td>4</td><td>Debrecen</td></tr>",
                            "<tr><td>5</td><td>Győr</td></tr>",
                            "</table>"
                        ]
                    }
                }
            ],
            "execution_count": 5
        },
        {
            "cell_type": "markdown",
            "source": [
                "Feltétele, hogy a két lekérdezés eredményhalmaza hasonló felépítésű legyen. ALL nélkül nem lesz duplikálás."
            ],
            "metadata": {
                "azdata_cell_guid": "c1c5003b-9bae-4cf0-b356-0fe0b7f18f20"
            },
            "attachments": {}
        },
        {
            "cell_type": "code",
            "source": [
                "select distinct *\r\n",
                "from (select *\r\n",
                "    from (\r\n",
                "        VALUES\r\n",
                "        (1, N'Budapest'),\r\n",
                "        (2, N'Szeged'),\r\n",
                "        (3, N'Miskolc'),\r\n",
                "        (4, N'Debrecen'),\r\n",
                "        (5, N'Győr')\r\n",
                "    ) varos(ID, nev)\r\n",
                "    UNION ALL\r\n",
                "    select 1, 'Budapest') as s"
            ],
            "metadata": {
                "azdata_cell_guid": "66a44055-062b-4920-b963-a71d741c43e7",
                "language": "sql"
            },
            "outputs": [
                {
                    "output_type": "display_data",
                    "data": {
                        "text/html": "(5 rows affected)"
                    },
                    "metadata": {}
                },
                {
                    "output_type": "display_data",
                    "data": {
                        "text/html": "Total execution time: 00:00:00.041"
                    },
                    "metadata": {}
                },
                {
                    "output_type": "execute_result",
                    "metadata": {},
                    "execution_count": 7,
                    "data": {
                        "application/vnd.dataresource+json": {
                            "schema": {
                                "fields": [
                                    {
                                        "name": "ID"
                                    },
                                    {
                                        "name": "nev"
                                    }
                                ]
                            },
                            "data": [
                                {
                                    "ID": "1",
                                    "nev": "Budapest"
                                },
                                {
                                    "ID": "2",
                                    "nev": "Szeged"
                                },
                                {
                                    "ID": "3",
                                    "nev": "Miskolc"
                                },
                                {
                                    "ID": "4",
                                    "nev": "Debrecen"
                                },
                                {
                                    "ID": "5",
                                    "nev": "Győr"
                                }
                            ]
                        },
                        "text/html": [
                            "<table>",
                            "<tr><th>ID</th><th>nev</th></tr>",
                            "<tr><td>1</td><td>Budapest</td></tr>",
                            "<tr><td>2</td><td>Szeged</td></tr>",
                            "<tr><td>3</td><td>Miskolc</td></tr>",
                            "<tr><td>4</td><td>Debrecen</td></tr>",
                            "<tr><td>5</td><td>Győr</td></tr>",
                            "</table>"
                        ]
                    }
                }
            ],
            "execution_count": 7
        }
    ]
}