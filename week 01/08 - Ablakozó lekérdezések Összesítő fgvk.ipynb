{
    "metadata": {
        "kernelspec": {
            "name": "SQL",
            "display_name": "SQL",
            "language": "sql"
        },
        "language_info": {
            "name": "sql",
            "version": ""
        }
    },
    "nbformat_minor": 2,
    "nbformat": 4,
    "cells": [
        {
            "cell_type": "code",
            "source": [
                "SELECT\r\n",
                "    YEAR(OrderDate)     as [Year],\r\n",
                "    MONTH(OrderDate)    as [Month],\r\n",
                "    COUNT(*)            as [Orders],\r\n",
                "    SUM(SubTotal)       as [SubTotal]\r\n",
                "FROM Orders\r\n",
                "where YEAR(OrderDate) = 2012\r\n",
                "GROUP BY YEAR(OrderDate), MONTH(OrderDate)\r\n",
                "ORDER BY 1,2"
            ],
            "metadata": {
                "azdata_cell_guid": "298291a7-9f54-4b8d-ad30-963912171e48",
                "language": "sql"
            },
            "outputs": [
                {
                    "output_type": "display_data",
                    "data": {
                        "text/html": "(12 rows affected)"
                    },
                    "metadata": {}
                },
                {
                    "output_type": "display_data",
                    "data": {
                        "text/html": "Total execution time: 00:00:00.044"
                    },
                    "metadata": {}
                },
                {
                    "output_type": "execute_result",
                    "metadata": {},
                    "execution_count": 2,
                    "data": {
                        "application/vnd.dataresource+json": {
                            "schema": {
                                "fields": [
                                    {
                                        "name": "Year"
                                    },
                                    {
                                        "name": "Month"
                                    },
                                    {
                                        "name": "Orders"
                                    },
                                    {
                                        "name": "SubTotal"
                                    }
                                ]
                            },
                            "data": [
                                {
                                    "Year": "2012",
                                    "Month": "1",
                                    "Orders": "336",
                                    "SubTotal": "3970627,279"
                                },
                                {
                                    "Year": "2012",
                                    "Month": "2",
                                    "Orders": "219",
                                    "SubTotal": "1475426,91"
                                },
                                {
                                    "Year": "2012",
                                    "Month": "3",
                                    "Orders": "304",
                                    "SubTotal": "2975748,2385"
                                },
                                {
                                    "Year": "2012",
                                    "Month": "4",
                                    "Orders": "269",
                                    "SubTotal": "1634600,7984"
                                },
                                {
                                    "Year": "2012",
                                    "Month": "5",
                                    "Orders": "293",
                                    "SubTotal": "3074602,8138"
                                },
                                {
                                    "Year": "2012",
                                    "Month": "6",
                                    "Orders": "390",
                                    "SubTotal": "4099354,3572"
                                },
                                {
                                    "Year": "2012",
                                    "Month": "7",
                                    "Orders": "385",
                                    "SubTotal": "3417953,8699"
                                },
                                {
                                    "Year": "2012",
                                    "Month": "8",
                                    "Orders": "285",
                                    "SubTotal": "2175637,218"
                                },
                                {
                                    "Year": "2012",
                                    "Month": "9",
                                    "Orders": "352",
                                    "SubTotal": "3454151,9405"
                                },
                                {
                                    "Year": "2012",
                                    "Month": "10",
                                    "Orders": "321",
                                    "SubTotal": "2544091,1056"
                                },
                                {
                                    "Year": "2012",
                                    "Month": "11",
                                    "Orders": "383",
                                    "SubTotal": "1872701,9762"
                                },
                                {
                                    "Year": "2012",
                                    "Month": "12",
                                    "Orders": "378",
                                    "SubTotal": "2829404,8189"
                                }
                            ]
                        },
                        "text/html": [
                            "<table>",
                            "<tr><th>Year</th><th>Month</th><th>Orders</th><th>SubTotal</th></tr>",
                            "<tr><td>2012</td><td>1</td><td>336</td><td>3970627,279</td></tr>",
                            "<tr><td>2012</td><td>2</td><td>219</td><td>1475426,91</td></tr>",
                            "<tr><td>2012</td><td>3</td><td>304</td><td>2975748,2385</td></tr>",
                            "<tr><td>2012</td><td>4</td><td>269</td><td>1634600,7984</td></tr>",
                            "<tr><td>2012</td><td>5</td><td>293</td><td>3074602,8138</td></tr>",
                            "<tr><td>2012</td><td>6</td><td>390</td><td>4099354,3572</td></tr>",
                            "<tr><td>2012</td><td>7</td><td>385</td><td>3417953,8699</td></tr>",
                            "<tr><td>2012</td><td>8</td><td>285</td><td>2175637,218</td></tr>",
                            "<tr><td>2012</td><td>9</td><td>352</td><td>3454151,9405</td></tr>",
                            "<tr><td>2012</td><td>10</td><td>321</td><td>2544091,1056</td></tr>",
                            "<tr><td>2012</td><td>11</td><td>383</td><td>1872701,9762</td></tr>",
                            "<tr><td>2012</td><td>12</td><td>378</td><td>2829404,8189</td></tr>",
                            "</table>"
                        ]
                    }
                }
            ],
            "execution_count": 2
        },
        {
            "cell_type": "code",
            "source": [
                "SELECT \r\n",
                "    *,\r\n",
                "    COUNT(*)        OVER(), --aggregáló ablakozás esetében nem kötelezó az order by\r\n",
                "    SUM(Orders)     OVER(partition by Year), --összesíti a rendelést évenként\r\n",
                "    SUM(Orders)     OVER(partition by Year order by Month), --göngyölt összeg\r\n",
                "    SUM(SubTotal)   OVER(partition by Year order by Month), --göngyölt összeg\r\n",
                "    MAX(SubTotal)   OVER(partition by Year order by Month rows between unbounded preceding and current row)\r\n",
                "\r\n",
                "\r\n",
                "FROM (\r\n",
                "    SELECT\r\n",
                "        YEAR(OrderDate)     as [Year],\r\n",
                "        MONTH(OrderDate)    as [Month],\r\n",
                "        COUNT(*)            as [Orders],\r\n",
                "        SUM(SubTotal)       as [SubTotal]\r\n",
                "    FROM Orders\r\n",
                "    where YEAR(OrderDate) in (2012, 2011, 2013)\r\n",
                "    GROUP BY YEAR(OrderDate), MONTH(OrderDate)\r\n",
                "    --ORDER BY 1,2 Subqueryben nem lehet order by\r\n",
                ") as s\r\n",
                "ORDER BY 1, 2"
            ],
            "metadata": {
                "azdata_cell_guid": "293cbec4-a67d-402a-8177-700069ff6e31",
                "language": "sql"
            },
            "outputs": [
                {
                    "output_type": "display_data",
                    "data": {
                        "text/html": "(32 rows affected)"
                    },
                    "metadata": {}
                },
                {
                    "output_type": "display_data",
                    "data": {
                        "text/html": "Total execution time: 00:00:00.230"
                    },
                    "metadata": {}
                },
                {
                    "output_type": "execute_result",
                    "metadata": {},
                    "execution_count": 15,
                    "data": {
                        "application/vnd.dataresource+json": {
                            "schema": {
                                "fields": [
                                    {
                                        "name": "Year"
                                    },
                                    {
                                        "name": "Month"
                                    },
                                    {
                                        "name": "Orders"
                                    },
                                    {
                                        "name": "SubTotal"
                                    },
                                    {
                                        "name": "(No column name)"
                                    },
                                    {
                                        "name": "(No column name)"
                                    },
                                    {
                                        "name": "(No column name)"
                                    },
                                    {
                                        "name": "(No column name)"
                                    }
                                ]
                            },
                            "data": [
                                {
                                    "Year": "2011",
                                    "Month": "5",
                                    "Orders": "43",
                                    "SubTotal": "503805,9169",
                                    "(No column name)": "503805,9169"
                                },
                                {
                                    "Year": "2011",
                                    "Month": "6",
                                    "Orders": "141",
                                    "SubTotal": "458910,8248",
                                    "(No column name)": "962716,7417"
                                },
                                {
                                    "Year": "2011",
                                    "Month": "7",
                                    "Orders": "231",
                                    "SubTotal": "2044600,0034",
                                    "(No column name)": "3007316,7451"
                                },
                                {
                                    "Year": "2011",
                                    "Month": "8",
                                    "Orders": "250",
                                    "SubTotal": "2495816,7335",
                                    "(No column name)": "5503133,4786"
                                },
                                {
                                    "Year": "2011",
                                    "Month": "9",
                                    "Orders": "157",
                                    "SubTotal": "502073,8458",
                                    "(No column name)": "6005207,3244"
                                },
                                {
                                    "Year": "2011",
                                    "Month": "10",
                                    "Orders": "327",
                                    "SubTotal": "4588761,816",
                                    "(No column name)": "10593969,1404"
                                },
                                {
                                    "Year": "2011",
                                    "Month": "11",
                                    "Orders": "230",
                                    "SubTotal": "737839,8214",
                                    "(No column name)": "11331808,9618"
                                },
                                {
                                    "Year": "2011",
                                    "Month": "12",
                                    "Orders": "228",
                                    "SubTotal": "1309863,2511",
                                    "(No column name)": "12641672,2129"
                                },
                                {
                                    "Year": "2012",
                                    "Month": "1",
                                    "Orders": "336",
                                    "SubTotal": "3970627,279",
                                    "(No column name)": "3970627,279"
                                },
                                {
                                    "Year": "2012",
                                    "Month": "2",
                                    "Orders": "219",
                                    "SubTotal": "1475426,91",
                                    "(No column name)": "5446054,189"
                                },
                                {
                                    "Year": "2012",
                                    "Month": "3",
                                    "Orders": "304",
                                    "SubTotal": "2975748,2385",
                                    "(No column name)": "8421802,4275"
                                },
                                {
                                    "Year": "2012",
                                    "Month": "4",
                                    "Orders": "269",
                                    "SubTotal": "1634600,7984",
                                    "(No column name)": "10056403,2259"
                                },
                                {
                                    "Year": "2012",
                                    "Month": "5",
                                    "Orders": "293",
                                    "SubTotal": "3074602,8138",
                                    "(No column name)": "13131006,0397"
                                },
                                {
                                    "Year": "2012",
                                    "Month": "6",
                                    "Orders": "390",
                                    "SubTotal": "4099354,3572",
                                    "(No column name)": "17230360,3969"
                                },
                                {
                                    "Year": "2012",
                                    "Month": "7",
                                    "Orders": "385",
                                    "SubTotal": "3417953,8699",
                                    "(No column name)": "20648314,2668"
                                },
                                {
                                    "Year": "2012",
                                    "Month": "8",
                                    "Orders": "285",
                                    "SubTotal": "2175637,218",
                                    "(No column name)": "22823951,4848"
                                },
                                {
                                    "Year": "2012",
                                    "Month": "9",
                                    "Orders": "352",
                                    "SubTotal": "3454151,9405",
                                    "(No column name)": "26278103,4253"
                                },
                                {
                                    "Year": "2012",
                                    "Month": "10",
                                    "Orders": "321",
                                    "SubTotal": "2544091,1056",
                                    "(No column name)": "28822194,5309"
                                },
                                {
                                    "Year": "2012",
                                    "Month": "11",
                                    "Orders": "383",
                                    "SubTotal": "1872701,9762",
                                    "(No column name)": "30694896,5071"
                                },
                                {
                                    "Year": "2012",
                                    "Month": "12",
                                    "Orders": "378",
                                    "SubTotal": "2829404,8189",
                                    "(No column name)": "33524301,326"
                                },
                                {
                                    "Year": "2013",
                                    "Month": "1",
                                    "Orders": "400",
                                    "SubTotal": "2087872,4623",
                                    "(No column name)": "2087872,4623"
                                },
                                {
                                    "Year": "2013",
                                    "Month": "2",
                                    "Orders": "325",
                                    "SubTotal": "2316922,1516",
                                    "(No column name)": "4404794,6139"
                                },
                                {
                                    "Year": "2013",
                                    "Month": "3",
                                    "Orders": "441",
                                    "SubTotal": "3412068,9676",
                                    "(No column name)": "7816863,5815"
                                },
                                {
                                    "Year": "2013",
                                    "Month": "4",
                                    "Orders": "428",
                                    "SubTotal": "2532265,9123",
                                    "(No column name)": "10349129,4938"
                                },
                                {
                                    "Year": "2013",
                                    "Month": "5",
                                    "Orders": "428",
                                    "SubTotal": "3245623,7551",
                                    "(No column name)": "13594753,2489"
                                },
                                {
                                    "Year": "2013",
                                    "Month": "6",
                                    "Orders": "719",
                                    "SubTotal": "5081069,1319",
                                    "(No column name)": "18675822,3808"
                                },
                                {
                                    "Year": "2013",
                                    "Month": "7",
                                    "Orders": "1740",
                                    "SubTotal": "4896353,7386",
                                    "(No column name)": "23572176,1194"
                                },
                                {
                                    "Year": "2013",
                                    "Month": "8",
                                    "Orders": "1789",
                                    "SubTotal": "3333964,0677",
                                    "(No column name)": "26906140,1871"
                                },
                                {
                                    "Year": "2013",
                                    "Month": "9",
                                    "Orders": "1791",
                                    "SubTotal": "4532908,7054",
                                    "(No column name)": "31439048,8925"
                                },
                                {
                                    "Year": "2013",
                                    "Month": "10",
                                    "Orders": "1968",
                                    "SubTotal": "4795813,2898",
                                    "(No column name)": "36234862,1823"
                                },
                                {
                                    "Year": "2013",
                                    "Month": "11",
                                    "Orders": "2103",
                                    "SubTotal": "3312130,2457",
                                    "(No column name)": "39546992,428"
                                },
                                {
                                    "Year": "2013",
                                    "Month": "12",
                                    "Orders": "2050",
                                    "SubTotal": "4075486,6257",
                                    "(No column name)": "43622479,0537"
                                }
                            ]
                        },
                        "text/html": [
                            "<table>",
                            "<tr><th>Year</th><th>Month</th><th>Orders</th><th>SubTotal</th><th>(No column name)</th><th>(No column name)</th><th>(No column name)</th><th>(No column name)</th></tr>",
                            "<tr><td>2011</td><td>5</td><td>43</td><td>503805,9169</td><td>32</td><td>1607</td><td>43</td><td>503805,9169</td></tr>",
                            "<tr><td>2011</td><td>6</td><td>141</td><td>458910,8248</td><td>32</td><td>1607</td><td>184</td><td>962716,7417</td></tr>",
                            "<tr><td>2011</td><td>7</td><td>231</td><td>2044600,0034</td><td>32</td><td>1607</td><td>415</td><td>3007316,7451</td></tr>",
                            "<tr><td>2011</td><td>8</td><td>250</td><td>2495816,7335</td><td>32</td><td>1607</td><td>665</td><td>5503133,4786</td></tr>",
                            "<tr><td>2011</td><td>9</td><td>157</td><td>502073,8458</td><td>32</td><td>1607</td><td>822</td><td>6005207,3244</td></tr>",
                            "<tr><td>2011</td><td>10</td><td>327</td><td>4588761,816</td><td>32</td><td>1607</td><td>1149</td><td>10593969,1404</td></tr>",
                            "<tr><td>2011</td><td>11</td><td>230</td><td>737839,8214</td><td>32</td><td>1607</td><td>1379</td><td>11331808,9618</td></tr>",
                            "<tr><td>2011</td><td>12</td><td>228</td><td>1309863,2511</td><td>32</td><td>1607</td><td>1607</td><td>12641672,2129</td></tr>",
                            "<tr><td>2012</td><td>1</td><td>336</td><td>3970627,279</td><td>32</td><td>3915</td><td>336</td><td>3970627,279</td></tr>",
                            "<tr><td>2012</td><td>2</td><td>219</td><td>1475426,91</td><td>32</td><td>3915</td><td>555</td><td>5446054,189</td></tr>",
                            "<tr><td>2012</td><td>3</td><td>304</td><td>2975748,2385</td><td>32</td><td>3915</td><td>859</td><td>8421802,4275</td></tr>",
                            "<tr><td>2012</td><td>4</td><td>269</td><td>1634600,7984</td><td>32</td><td>3915</td><td>1128</td><td>10056403,2259</td></tr>",
                            "<tr><td>2012</td><td>5</td><td>293</td><td>3074602,8138</td><td>32</td><td>3915</td><td>1421</td><td>13131006,0397</td></tr>",
                            "<tr><td>2012</td><td>6</td><td>390</td><td>4099354,3572</td><td>32</td><td>3915</td><td>1811</td><td>17230360,3969</td></tr>",
                            "<tr><td>2012</td><td>7</td><td>385</td><td>3417953,8699</td><td>32</td><td>3915</td><td>2196</td><td>20648314,2668</td></tr>",
                            "<tr><td>2012</td><td>8</td><td>285</td><td>2175637,218</td><td>32</td><td>3915</td><td>2481</td><td>22823951,4848</td></tr>",
                            "<tr><td>2012</td><td>9</td><td>352</td><td>3454151,9405</td><td>32</td><td>3915</td><td>2833</td><td>26278103,4253</td></tr>",
                            "<tr><td>2012</td><td>10</td><td>321</td><td>2544091,1056</td><td>32</td><td>3915</td><td>3154</td><td>28822194,5309</td></tr>",
                            "<tr><td>2012</td><td>11</td><td>383</td><td>1872701,9762</td><td>32</td><td>3915</td><td>3537</td><td>30694896,5071</td></tr>",
                            "<tr><td>2012</td><td>12</td><td>378</td><td>2829404,8189</td><td>32</td><td>3915</td><td>3915</td><td>33524301,326</td></tr>",
                            "<tr><td>2013</td><td>1</td><td>400</td><td>2087872,4623</td><td>32</td><td>14182</td><td>400</td><td>2087872,4623</td></tr>",
                            "<tr><td>2013</td><td>2</td><td>325</td><td>2316922,1516</td><td>32</td><td>14182</td><td>725</td><td>4404794,6139</td></tr>",
                            "<tr><td>2013</td><td>3</td><td>441</td><td>3412068,9676</td><td>32</td><td>14182</td><td>1166</td><td>7816863,5815</td></tr>",
                            "<tr><td>2013</td><td>4</td><td>428</td><td>2532265,9123</td><td>32</td><td>14182</td><td>1594</td><td>10349129,4938</td></tr>",
                            "<tr><td>2013</td><td>5</td><td>428</td><td>3245623,7551</td><td>32</td><td>14182</td><td>2022</td><td>13594753,2489</td></tr>",
                            "<tr><td>2013</td><td>6</td><td>719</td><td>5081069,1319</td><td>32</td><td>14182</td><td>2741</td><td>18675822,3808</td></tr>",
                            "<tr><td>2013</td><td>7</td><td>1740</td><td>4896353,7386</td><td>32</td><td>14182</td><td>4481</td><td>23572176,1194</td></tr>",
                            "<tr><td>2013</td><td>8</td><td>1789</td><td>3333964,0677</td><td>32</td><td>14182</td><td>6270</td><td>26906140,1871</td></tr>",
                            "<tr><td>2013</td><td>9</td><td>1791</td><td>4532908,7054</td><td>32</td><td>14182</td><td>8061</td><td>31439048,8925</td></tr>",
                            "<tr><td>2013</td><td>10</td><td>1968</td><td>4795813,2898</td><td>32</td><td>14182</td><td>10029</td><td>36234862,1823</td></tr>",
                            "<tr><td>2013</td><td>11</td><td>2103</td><td>3312130,2457</td><td>32</td><td>14182</td><td>12132</td><td>39546992,428</td></tr>",
                            "<tr><td>2013</td><td>12</td><td>2050</td><td>4075486,6257</td><td>32</td><td>14182</td><td>14182</td><td>43622479,0537</td></tr>",
                            "</table>"
                        ]
                    }
                }
            ],
            "execution_count": 15
        },
        {
            "cell_type": "markdown",
            "source": [
                "Az 5 sor hogyan is működik. Amikor elindul a lekérdezés ugye 1 sor van, ennek az összege 43 mert az ablak 1 soros\n",
                "\n",
                "a következő iterációban az ablak két soros, így a 1 és 2 összege (43+141) lesz az eredménye.\n",
                "\n",
                "Ha kiveszed a patrition by-t akkor az ablak az egész lekérdezésre fog vonatkozní, és a göngyölítés a legérdezés végéig <span style=\"color: var(--vscode-foreground);\">megy.</span>\n",
                "\n",
                "<span style=\"color: var(--vscode-foreground);\">7 Sor</span>\n",
                "\n",
                "<span style=\"color: var(--vscode-foreground);\">Itt az van definiálva, hogy az ablak folyamatosan nőljön, amíg az év nem változik. Itt lehet olyan, hogy a max érték változik emiatt.</span>\n",
                "\n",
                "<span style=\"color: var(--vscode-foreground);\">Ha azt szeretnénk, hogy az egész patrition by által megadott ablakban keresse a max-ot, akkor nem kell order by, vagy&nbsp;</span> \n",
                "\n",
                "<span style=\"color: var(--vscode-foreground);\">... and unbounded following</span>\n",
                "\n",
                "<span style=\"color: var(--vscode-foreground);\"><br></span>"
            ],
            "metadata": {
                "azdata_cell_guid": "706a924d-1be5-4827-81d1-8c5dce6d6070"
            },
            "attachments": {}
        }
    ]
}